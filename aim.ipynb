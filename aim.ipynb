{
 "cells": [
  {
   "cell_type": "code",
   "execution_count": 9,
   "id": "f6041554-6adc-4eda-bafa-9a20392ad7cc",
   "metadata": {},
   "outputs": [],
   "source": [
    "import numpy as np"
   ]
  },
  {
   "cell_type": "code",
   "execution_count": 11,
   "id": "9cf18965-6d5f-4f3b-948f-3086021bf782",
   "metadata": {},
   "outputs": [],
   "source": [
    "a=np.array([1.2,2.5,3.2,1.8])"
   ]
  },
  {
   "cell_type": "code",
   "execution_count": 13,
   "id": "94e73c35-a77c-4c10-9228-789b213eea31",
   "metadata": {},
   "outputs": [
    {
     "name": "stdout",
     "output_type": "stream",
     "text": [
      "<class 'numpy.ndarray'>\n"
     ]
    }
   ],
   "source": [
    "print(type(a))"
   ]
  },
  {
   "cell_type": "code",
   "execution_count": 15,
   "id": "55d2de64-9c9e-47af-9b0e-f0bd01432bc1",
   "metadata": {},
   "outputs": [
    {
     "name": "stdout",
     "output_type": "stream",
     "text": [
      "float64\n"
     ]
    }
   ],
   "source": [
    "print(a.dtype)"
   ]
  },
  {
   "cell_type": "code",
   "execution_count": 17,
   "id": "8c6dfd4e-2c40-457c-b57c-c58a15fefd42",
   "metadata": {},
   "outputs": [
    {
     "name": "stdout",
     "output_type": "stream",
     "text": [
      "1\n"
     ]
    }
   ],
   "source": [
    "print(a.ndim)"
   ]
  },
  {
   "cell_type": "code",
   "execution_count": 19,
   "id": "c486e861-2c6f-4145-a970-c3489cd8ef57",
   "metadata": {},
   "outputs": [
    {
     "name": "stdout",
     "output_type": "stream",
     "text": [
      "(4,)\n"
     ]
    }
   ],
   "source": [
    "print(a.shape)"
   ]
  },
  {
   "cell_type": "code",
   "execution_count": 21,
   "id": "642badf4-a69d-4c1a-9304-77ebedc71ab6",
   "metadata": {},
   "outputs": [
    {
     "name": "stdout",
     "output_type": "stream",
     "text": [
      "4\n"
     ]
    }
   ],
   "source": [
    "print(a.size)"
   ]
  },
  {
   "cell_type": "code",
   "execution_count": 23,
   "id": "173cbb87-ca4c-438e-ab0a-99bdb581133c",
   "metadata": {},
   "outputs": [],
   "source": [
    "a=np.array([1,2,4])"
   ]
  },
  {
   "cell_type": "code",
   "execution_count": 25,
   "id": "279d9b47-5047-432d-a7a3-42da3a24352e",
   "metadata": {},
   "outputs": [
    {
     "name": "stdout",
     "output_type": "stream",
     "text": [
      "int32\n"
     ]
    }
   ],
   "source": [
    "print(a.dtype)"
   ]
  },
  {
   "cell_type": "code",
   "execution_count": 29,
   "id": "9d7877d1-0bda-41bd-9874-388027e22ec3",
   "metadata": {},
   "outputs": [],
   "source": [
    "a=np.array([1,2,4],dtype=float)"
   ]
  },
  {
   "cell_type": "code",
   "execution_count": 31,
   "id": "54333ba0-b8f3-40e7-ad27-0da6be6c6cb3",
   "metadata": {},
   "outputs": [
    {
     "name": "stdout",
     "output_type": "stream",
     "text": [
      "float64\n"
     ]
    }
   ],
   "source": [
    "print(a.dtype)"
   ]
  },
  {
   "cell_type": "code",
   "execution_count": 33,
   "id": "e66a71aa-9310-43fc-ad96-08b8da4055cc",
   "metadata": {},
   "outputs": [
    {
     "name": "stdout",
     "output_type": "stream",
     "text": [
      "[1. 2. 4.]\n"
     ]
    }
   ],
   "source": [
    "print(a)"
   ]
  },
  {
   "cell_type": "code",
   "execution_count": 35,
   "id": "b71b7e0f-255b-48e8-b4e0-79c5b3974eeb",
   "metadata": {},
   "outputs": [],
   "source": [
    "b=np.array([True,False,True,True], dtype=bool)"
   ]
  },
  {
   "cell_type": "code",
   "execution_count": 37,
   "id": "0ab89393-481f-45bf-893b-b65835aabb83",
   "metadata": {},
   "outputs": [
    {
     "name": "stdout",
     "output_type": "stream",
     "text": [
      "[ True False  True  True]\n"
     ]
    }
   ],
   "source": [
    "print(b)"
   ]
  },
  {
   "cell_type": "code",
   "execution_count": 39,
   "id": "e5a857d5-5808-4cef-b4dd-c94b85f5bc1b",
   "metadata": {},
   "outputs": [],
   "source": [
    "a=np.array([{\"Toto\":(45,2000)},{\"Tata\":(34,1500)}])"
   ]
  },
  {
   "cell_type": "code",
   "execution_count": 41,
   "id": "bf85c36a-02fd-4fe2-8aa1-37c7afec4aa3",
   "metadata": {},
   "outputs": [
    {
     "name": "stdout",
     "output_type": "stream",
     "text": [
      "object\n"
     ]
    }
   ],
   "source": [
    "print(a.dtype)"
   ]
  },
  {
   "cell_type": "code",
   "execution_count": 43,
   "id": "c327cc0c-abec-4026-aed7-33c65f7ce978",
   "metadata": {},
   "outputs": [],
   "source": [
    "a=np.arange(start=0,stop=10)"
   ]
  },
  {
   "cell_type": "code",
   "execution_count": 45,
   "id": "1ae47a46-916a-4392-8c9f-ccfafb632a0d",
   "metadata": {},
   "outputs": [
    {
     "name": "stdout",
     "output_type": "stream",
     "text": [
      "[0 1 2 3 4 5 6 7 8 9]\n"
     ]
    }
   ],
   "source": [
    "print(a)"
   ]
  },
  {
   "cell_type": "code",
   "execution_count": 47,
   "id": "2ad934df-fdb5-4b37-8650-dff399d14314",
   "metadata": {},
   "outputs": [],
   "source": [
    "a=np.arange(start=0,stop=10,step=2)"
   ]
  },
  {
   "cell_type": "code",
   "execution_count": 49,
   "id": "d1b531f6-68a2-40cc-895d-06201a21aa75",
   "metadata": {},
   "outputs": [
    {
     "name": "stdout",
     "output_type": "stream",
     "text": [
      "[0 2 4 6 8]\n"
     ]
    }
   ],
   "source": [
    "print(a)"
   ]
  },
  {
   "cell_type": "code",
   "execution_count": 51,
   "id": "c576783e-4dd5-4fb7-abfc-f04696682eca",
   "metadata": {},
   "outputs": [],
   "source": [
    "a=np.ones(shape=5)"
   ]
  },
  {
   "cell_type": "code",
   "execution_count": 53,
   "id": "217a6a01-e6b5-44ad-8dc3-fbef481b0809",
   "metadata": {},
   "outputs": [
    {
     "name": "stdout",
     "output_type": "stream",
     "text": [
      "[1. 1. 1. 1. 1.]\n"
     ]
    }
   ],
   "source": [
    "print(a)"
   ]
  },
  {
   "cell_type": "code",
   "execution_count": 55,
   "id": "05567eca-abdc-45b5-8980-42edfcea5fb8",
   "metadata": {},
   "outputs": [],
   "source": [
    "a=np.full(shape=5,fill_value=3.2)"
   ]
  },
  {
   "cell_type": "code",
   "execution_count": 57,
   "id": "c99ce0c6-ada9-405d-a6b3-464c08daefd2",
   "metadata": {},
   "outputs": [
    {
     "name": "stdout",
     "output_type": "stream",
     "text": [
      "[3.2 3.2 3.2 3.2 3.2]\n"
     ]
    }
   ],
   "source": [
    "print(a)"
   ]
  },
  {
   "cell_type": "code",
   "execution_count": 59,
   "id": "62889d52-d0cb-4b02-a273-7eb5827cc161",
   "metadata": {},
   "outputs": [],
   "source": [
    "a=np.loadtxt(\"vecteur.txt\",dtype=float)"
   ]
  },
  {
   "cell_type": "code",
   "execution_count": 61,
   "id": "145a6482-bb92-49a1-877a-69ad5901470f",
   "metadata": {},
   "outputs": [
    {
     "name": "stdout",
     "output_type": "stream",
     "text": [
      "[ 4.  5.  8. 16. 68. 14. 35.]\n"
     ]
    }
   ],
   "source": [
    "print(a)"
   ]
  },
  {
   "cell_type": "code",
   "execution_count": 63,
   "id": "38ef06ce-c91a-4925-b456-939d688fc010",
   "metadata": {},
   "outputs": [],
   "source": [
    "lst=[1.2,3.1,4.5]"
   ]
  },
  {
   "cell_type": "code",
   "execution_count": 65,
   "id": "22a6d9ac-eab1-40d6-a20d-2ce5c78f9c14",
   "metadata": {},
   "outputs": [
    {
     "name": "stdout",
     "output_type": "stream",
     "text": [
      "<class 'list'>\n"
     ]
    }
   ],
   "source": [
    "print(type(lst))"
   ]
  },
  {
   "cell_type": "code",
   "execution_count": 67,
   "id": "7b9db4d7-7e09-4f17-b8d8-4476a4a2db78",
   "metadata": {},
   "outputs": [],
   "source": [
    "a=np.asarray(lst,dtype=float)"
   ]
  },
  {
   "cell_type": "code",
   "execution_count": 69,
   "id": "3e561f92-7786-4daa-af68-898722d51d06",
   "metadata": {},
   "outputs": [
    {
     "name": "stdout",
     "output_type": "stream",
     "text": [
      "<class 'numpy.ndarray'>\n"
     ]
    }
   ],
   "source": [
    "print(type(a))"
   ]
  },
  {
   "cell_type": "code",
   "execution_count": 71,
   "id": "d014c476-5967-4d44-aff2-05e3bcfc67a4",
   "metadata": {},
   "outputs": [
    {
     "name": "stdout",
     "output_type": "stream",
     "text": [
      "[1.2 3.1 4.5]\n"
     ]
    }
   ],
   "source": [
    "print(a)"
   ]
  },
  {
   "cell_type": "code",
   "execution_count": 73,
   "id": "59fad3c1-1090-4dd7-bc3b-83400a059a78",
   "metadata": {},
   "outputs": [],
   "source": [
    "a=np.array([1.2,2.5,3.2,1.8])"
   ]
  },
  {
   "cell_type": "code",
   "execution_count": 75,
   "id": "4ea80c27-8d69-4239-ace4-b296bda29bfd",
   "metadata": {},
   "outputs": [],
   "source": [
    "a=np.append(a,10)"
   ]
  },
  {
   "cell_type": "code",
   "execution_count": 77,
   "id": "4b4c290b-d9b5-43e2-a556-7be9e27e2912",
   "metadata": {},
   "outputs": [
    {
     "name": "stdout",
     "output_type": "stream",
     "text": [
      "[ 1.2  2.5  3.2  1.8 10. ]\n"
     ]
    }
   ],
   "source": [
    "print(a)"
   ]
  },
  {
   "cell_type": "code",
   "execution_count": null,
   "id": "23ef93b3-d3b9-4db3-b8ef-4c78aa02d09b",
   "metadata": {},
   "outputs": [],
   "source": []
  }
 ],
 "metadata": {
  "kernelspec": {
   "display_name": "Python 3 (ipykernel)",
   "language": "python",
   "name": "python3"
  },
  "language_info": {
   "codemirror_mode": {
    "name": "ipython",
    "version": 3
   },
   "file_extension": ".py",
   "mimetype": "text/x-python",
   "name": "python",
   "nbconvert_exporter": "python",
   "pygments_lexer": "ipython3",
   "version": "3.12.4"
  }
 },
 "nbformat": 4,
 "nbformat_minor": 5
}
